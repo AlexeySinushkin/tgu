{
 "cells": [
  {
   "cell_type": "markdown",
   "id": "b99aac7b-5527-419b-92bc-4b2c19e38fbf",
   "metadata": {},
   "source": [
    "# Урок 2. Форматы изображений"
   ]
  },
  {
   "cell_type": "markdown",
   "id": "dce37958-c7bb-4dc2-8e03-7e392865aa56",
   "metadata": {},
   "source": [
    "В этом практическом задании вы научитесь загружать изображения, пересохранять их в других форматах. Наглядно увидите разницу между форматами jpg и png.\n",
    "\n",
    "Для начала импортируйте библиотеки cv2 (если не установлена, установите командой pip install opencv) и np (numpy).\n",
    "Затем загрузите изображение 'img.jpg' в переменную img_jpg."
   ]
  },
  {
   "cell_type": "code",
   "execution_count": null,
   "id": "5bec544f-5574-4b7b-acc9-67ec8b25124c",
   "metadata": {},
   "outputs": [],
   "source": [
    "# Здесь должен быть ваш код"
   ]
  },
  {
   "cell_type": "markdown",
   "id": "75d24f28-afa7-4c7c-860f-0b0f4ebf122e",
   "metadata": {},
   "source": [
    "Сохраните изображение как \"img.png\" с помощью функции cv2.imwrite."
   ]
  },
  {
   "cell_type": "code",
   "execution_count": null,
   "id": "f49c8fee-728e-4ee9-a7c0-ef50b1165bc1",
   "metadata": {},
   "outputs": [],
   "source": [
    "# Здесь должен быть ваш код"
   ]
  },
  {
   "cell_type": "markdown",
   "id": "f74eafa5-eedc-4338-9d43-8d3d039e6fed",
   "metadata": {},
   "source": [
    "Загрузите \"img.png\" в переменную img_png"
   ]
  },
  {
   "cell_type": "code",
   "execution_count": null,
   "id": "2a1f471b-be87-46e8-a9fe-ac359089b0a4",
   "metadata": {},
   "outputs": [],
   "source": [
    "# Здесь должен быть ваш код"
   ]
  },
  {
   "cell_type": "markdown",
   "id": "5c643e18-e8b8-4517-9024-b12c1c3e2f3e",
   "metadata": {},
   "source": [
    "Сравните переменные img_jpg и img_png. Изображения можно сравнивать как numpy-тензоры, используя функцию (A==B).all()"
   ]
  },
  {
   "cell_type": "code",
   "execution_count": null,
   "id": "faa31b3b-1b26-4d1b-80f5-83f808aca06c",
   "metadata": {},
   "outputs": [],
   "source": [
    "# Здесь должен быть ваш код"
   ]
  },
  {
   "cell_type": "markdown",
   "id": "113edc45-a07a-4c04-a8e0-cb7cb02728c5",
   "metadata": {},
   "source": [
    "Соответствует ли результат вашим ожиданиям? Если нет, вернитесь к теоретической части урока, чтобы узнать, почему изображения равны."
   ]
  },
  {
   "cell_type": "markdown",
   "id": "832df73f-bd54-49c5-b39f-c7adc8567484",
   "metadata": {},
   "source": [
    "Далее пересохраните img_jpg в \"img2.jpg\", а img_png в \"img2.png\""
   ]
  },
  {
   "cell_type": "code",
   "execution_count": null,
   "id": "7102b979-018e-4a24-9295-04e537eb4ccd",
   "metadata": {},
   "outputs": [],
   "source": [
    "# Здесь должен быть ваш код"
   ]
  },
  {
   "cell_type": "markdown",
   "id": "87f3e587-5981-4090-a537-dddc15bc91bb",
   "metadata": {},
   "source": [
    "Загрузите \"img2.jpg\" в img2_jpg, а \"img2.png\" в img2_png"
   ]
  },
  {
   "cell_type": "code",
   "execution_count": null,
   "id": "dbdce84b-374c-414c-8710-3b25866b50d4",
   "metadata": {},
   "outputs": [],
   "source": [
    "# Здесь должен быть ваш код"
   ]
  },
  {
   "cell_type": "markdown",
   "id": "c3ded3da-d9eb-4d45-97ce-556c905e8dbb",
   "metadata": {},
   "source": [
    "Сравните img2_png и img_png."
   ]
  },
  {
   "cell_type": "code",
   "execution_count": null,
   "id": "761db914-8665-43c7-b56d-dd69861db475",
   "metadata": {},
   "outputs": [],
   "source": [
    "# Здесь должен быть ваш код"
   ]
  },
  {
   "cell_type": "markdown",
   "id": "9af5263d-b465-42e3-a895-1042365ef2f8",
   "metadata": {},
   "source": [
    "Соответствует ли результат вашим ожиданиям? Если нет, вернитесь к теоретической части урока, чтобы узнать, почему изображения равны."
   ]
  },
  {
   "cell_type": "markdown",
   "id": "20ba62a7-5e2e-424f-b86c-eb21ec889c1d",
   "metadata": {},
   "source": [
    "Сравните img2_jpg и img_jpg."
   ]
  },
  {
   "cell_type": "code",
   "execution_count": null,
   "id": "edd7f4fa-0edd-4346-a06d-7deafd674156",
   "metadata": {},
   "outputs": [],
   "source": [
    "# Здесь должен быть ваш код"
   ]
  },
  {
   "cell_type": "markdown",
   "id": "bd3cca72-5c65-4058-9a5d-cbf06811bad9",
   "metadata": {},
   "source": [
    "Соответствует ли результат вашим ожиданиям? Если нет, вернитесь к теоретической части урока, чтобы узнать, почему изображения не равны."
   ]
  },
  {
   "cell_type": "markdown",
   "id": "4f163193-675e-4edc-9d5d-23fe804e2c65",
   "metadata": {},
   "source": [
    "И наконец выведем все изображения, чтобы убедиться, что визуально разница не заметна, хотя содержимое последнего изображения отличается от других, и это может влиять на результаты работы методов компьютерного зрения."
   ]
  },
  {
   "cell_type": "code",
   "execution_count": null,
   "id": "043ccba7-1800-4755-b29e-07b365e7c82f",
   "metadata": {},
   "outputs": [],
   "source": [
    "from matplotlib import pyplot as plt\n",
    "\n",
    "f, axes = plt.subplots(1, 4, figsize=(16, 4))\n",
    "\n",
    "axes[0].imshow(img_jpg[..., ::-1]) # способ вывести изображение BGR как RGB, не меняя цветовую модель\n",
    "axes[1].imshow(img_png[..., ::-1])\n",
    "axes[2].imshow(img2_png[..., ::-1])\n",
    "axes[3].imshow(img2_jpg[..., ::-1])\n",
    "\n",
    "plt.show()"
   ]
  },
  {
   "cell_type": "markdown",
   "id": "d5aa0b07-3979-4505-845d-7324b3185453",
   "metadata": {},
   "source": [
    "# Урок 3. Масштабирование и интерполяция"
   ]
  },
  {
   "cell_type": "markdown",
   "id": "bd664e04-1de9-42df-b63c-fce3e5be029b",
   "metadata": {},
   "source": [
    "В этом практическом задании вы напишете функцию для корректного масштабирования любых изображений с учетом настройки интерполяции и сохранением соотношения сторон. Она пригодится вам в дальнейшей работе и домашнем задании."
   ]
  },
  {
   "cell_type": "code",
   "execution_count": null,
   "id": "8e118f9a-837e-4bef-826a-ad320b908184",
   "metadata": {},
   "outputs": [],
   "source": [
    "# Шаблон функции\n",
    "\n",
    "import cv2\n",
    "import numpy as np\n",
    "\n",
    "def resize(img, size, save_ar=True):\n",
    "    old_h, old_w = img.shape[:2]\n",
    "    new_h, new_w = size\n",
    "\n",
    "    # Выбор интерполяции\n",
    "    if old_h > new_h or old_w > new_w: \n",
    "        interp = # выберите предпочтительную интерполяцию для уменьшения изображения\n",
    "    else:\n",
    "        interp = # выберите предпочтительную интерполяцию для увеличения изображения\n",
    "\n",
    "    if save_ar: # Если нужно сохранить соотношение сторон\n",
    "\t\tnew_img = np.zeros((new_h, new_w, img.shape[2]), dtype=img.dtype) # тензор нулей, в который нужно вставить масштабированное изображение\n",
    "        ar = old_h / old_w\n",
    "        if ar > 1: # вертикальное изображение\n",
    "            factor = \n",
    "            resize_h = \n",
    "            resize_w =\n",
    "        else: # горизонтальное изображение\n",
    "            factor = \n",
    "            resize_h = \n",
    "            resize_w =\n",
    "\n",
    "\t\tresized_img = # cv2.resize...\n",
    "\n",
    "        start_ymin = max(int((new_h - resize_h) / 2), 0) # Расчет координат, чтобы масштабированное изображение вставилось в центр\n",
    "        start_xmin = max(int((new_w - resize_w) / 2), 0)\n",
    "\n",
    "        new_img[start_ymin:start_ymin + resize_h, start_xmin:start_xmin + resize_w] = resized_img\n",
    "    else: # Если не нужно сохранять соотношение сторон\n",
    "        new_img = \n",
    "\n",
    "    return new_img"
   ]
  },
  {
   "cell_type": "markdown",
   "id": "13fd05dc-7c8b-488b-bf05-a9d49777128d",
   "metadata": {},
   "source": [
    "Проверьте правильность работы функции, загрузив и приведя изображение \"img.jpg\" к размеру 500х500:"
   ]
  },
  {
   "cell_type": "code",
   "execution_count": null,
   "id": "257e5e78-8d3a-4bc1-b40c-0eaf7a222309",
   "metadata": {},
   "outputs": [],
   "source": [
    "from matplotlib import pyplot as plt\n",
    "\n",
    "img = cv2.imread('img.jpg')\n",
    "new_img = resize(img, (500, 500))\n",
    "\n",
    "plt.imshow(new_img[...,::-1])\n",
    "plt.show()"
   ]
  },
  {
   "cell_type": "markdown",
   "id": "0a786a51-cad5-4417-b658-86f11b821263",
   "metadata": {},
   "source": [
    "# Урок 4. Цветовые преобразования"
   ]
  },
  {
   "cell_type": "markdown",
   "id": "b12540b6-084d-4481-9af9-3e6b706d9865",
   "metadata": {},
   "source": [
    "В этом практическом занятии вы напишете python-функции для применения цветовых преобразований, которые вы сможете использовать в дальнейшем, например, в домашнем задании."
   ]
  },
  {
   "cell_type": "code",
   "execution_count": null,
   "id": "eb722f6a-2c06-4fcd-a0a8-0d06ed17dafa",
   "metadata": {},
   "outputs": [],
   "source": [
    "import cv2\n",
    "import numpy as np\n",
    "\n",
    "# Шаблоны функций\n",
    "\n",
    "def change_hue(img, delta): # изменение оттенка\n",
    "    \n",
    "    return new_img\n",
    "\n",
    "def change_saturation(img, factor): # изменение насыщенности\n",
    "\n",
    "    return new_img\n",
    "\n",
    "def change_brightness(img, delta): # изменение яркости\n",
    "\n",
    "    return new_img\n",
    "\n",
    "def change_contrast(img, factor): # изменение контрастности\n",
    "\n",
    "    return new_img\n",
    "\n",
    "def change_gamma(img, gamma): # изменение гаммы\n",
    "\n",
    "    return new_img"
   ]
  },
  {
   "cell_type": "markdown",
   "id": "abacfb01-4bb1-45a8-8061-8b1ddc600b63",
   "metadata": {},
   "source": [
    "Проверьте корректность работы функций в ячейке ниже:"
   ]
  },
  {
   "cell_type": "code",
   "execution_count": null,
   "id": "7036cbbb-204d-4082-89e1-431c5afa555d",
   "metadata": {},
   "outputs": [],
   "source": [
    "from matplotlib import pyplot as plt\n",
    "\n",
    "img = cv2.imread('img.jpg')\n",
    "\n",
    "img_hue = change_hue(img, 50)\n",
    "img_saturation = change_saturation(img, 0.5)\n",
    "img_brightness = change_brightness(img, 50)\n",
    "img_contrast = change_contrast(img, 0.5)\n",
    "img_gamma = change_gamma(img, 0.5)\n",
    "\n",
    "\n",
    "f, axes = plt.subplots(1, 5, figsize=(16, 4))\n",
    "\n",
    "axes[0].imshow(img_hue[..., ::-1])\n",
    "axes[1].imshow(img_saturation[..., ::-1])\n",
    "axes[2].imshow(img_brightness[..., ::-1])\n",
    "axes[3].imshow(img_contrast[..., ::-1])\n",
    "axes[4].imshow(img_gamma[..., ::-1])\n",
    "\n",
    "plt.show()"
   ]
  },
  {
   "cell_type": "markdown",
   "id": "2c32ada8-ee89-4bb4-b2be-88568a3035ae",
   "metadata": {},
   "source": [
    "# Урок 5. Геометрические преобразования"
   ]
  },
  {
   "cell_type": "markdown",
   "id": "ab9cc025-238e-4fe5-a0f1-b4e6a1960467",
   "metadata": {},
   "source": [
    "В этом практическом занятии вы напишете python-функции для применения геометрических преобразований, которые вы сможете использовать в дальнейшем, например, в домашнем задании."
   ]
  },
  {
   "cell_type": "code",
   "execution_count": null,
   "id": "1b5c9a54-7a3e-407a-9d21-88d2f497325b",
   "metadata": {},
   "outputs": [],
   "source": [
    "import cv2\n",
    "import numpy as np\n",
    "import skimage\n",
    "\n",
    "# Шаблоны функций\n",
    "\n",
    "def flip(img, mode): # отражение, два режима: горизонтальный, вертикальный\n",
    "\n",
    "    return new_img\n",
    "\n",
    "def crop(img, x, y, h, w): # вырезание\n",
    "\n",
    "    return new_img\n",
    "\n",
    "def zoom_in(img, factor): # приближение\n",
    "\n",
    "    return new_img\n",
    "\n",
    "def zoom_out(img, factor): # отдаление\n",
    "\n",
    "    return new_img\n",
    "\n",
    "def rotate(img, angle): # поворот\n",
    "\n",
    "    return new_img\n",
    "\n",
    "def translate(img, dx, dy): # трансляция\n",
    "\n",
    "    return new_img\n",
    "\n",
    "def change_perspective(img, perspective_points): # изменение перспективы, опционально\n",
    "\n",
    "    return new_img"
   ]
  },
  {
   "cell_type": "markdown",
   "id": "df65fb5c-b5d6-4fb3-83e6-4d00637ce892",
   "metadata": {},
   "source": [
    "Проверьте корректность работы функций в ячейке ниже:"
   ]
  },
  {
   "cell_type": "code",
   "execution_count": null,
   "id": "5c2a5516-a2f5-4a3e-8746-2b3eb65056c4",
   "metadata": {},
   "outputs": [],
   "source": [
    "from matplotlib import pyplot as plt\n",
    "\n",
    "img = cv2.imread('img.jpg')\n",
    "\n",
    "img_flip = flip(img, 'horizontal')\n",
    "img_crop = crop(img, 5, 5, 50, 40)\n",
    "img_zoom_in = zoom_in(img, 2)\n",
    "img_zoom_out = zoom_out(img, 0.5)\n",
    "img_rotate = rotate(img, 45)\n",
    "img_translate = translate(img, 0.2, 0.3)\n",
    "\n",
    "\n",
    "f, axes = plt.subplots(1, 6, figsize=(16, 6))\n",
    "\n",
    "axes[0].imshow(img_flip[..., ::-1])\n",
    "axes[1].imshow(img_crop[..., ::-1])\n",
    "axes[2].imshow(img_zoom_in[..., ::-1])\n",
    "axes[3].imshow(img_zoom_out[..., ::-1])\n",
    "axes[4].imshow(img_rotate[..., ::-1])\n",
    "axes[5].imshow(img_translate[..., ::-1])\n",
    "\n",
    "plt.show()"
   ]
  },
  {
   "cell_type": "markdown",
   "id": "69d84447-f40c-4a68-b04f-1b2f8966d17b",
   "metadata": {},
   "source": [
    "# Урок 6. Шум и смешивание изображений"
   ]
  },
  {
   "cell_type": "markdown",
   "id": "aadd6122-fbfa-438a-b9ba-d29e4c44ed3b",
   "metadata": {},
   "source": [
    "В этом практическом задании вы наложите на изображение шум и другое изображение, чтобы научиться имитировать искажения реальных фотографий и разнообразить датасет."
   ]
  },
  {
   "cell_type": "markdown",
   "id": "eca939a1-daac-4661-bfa2-16b380c2f398",
   "metadata": {},
   "source": [
    "Наложите на изображение img 5 разных видов шума, используя skimage.util.random_noise. \n",
    "Сначала накладывайте шум по одному и смотрите на результат, потом комбинируйте несколько разных.\n",
    "Понравившееся зашумленное изображение сохраните как img_noise.jpg. Оно пригодится вам на следующем уроке."
   ]
  },
  {
   "cell_type": "code",
   "execution_count": null,
   "id": "760aa938-5898-43db-8fdf-21122b20a68b",
   "metadata": {},
   "outputs": [],
   "source": [
    "import cv2\n",
    "import skimage\n",
    "\n",
    "img = cv2.imread('img.jpg')\n",
    "\n",
    "img_noise = # Ваш код\n",
    "\n",
    "# Просмотр результата\n",
    "f, axes = plt.subplots(1, 2, figsize=(10, 5))\n",
    "\n",
    "axes[0].imshow(img[..., ::-1])\n",
    "axes[1].imshow(img_noise[..., ::-1])\n",
    "\n",
    "plt.show()"
   ]
  },
  {
   "cell_type": "markdown",
   "id": "e4608a60-d436-4956-a99a-dfc13903f072",
   "metadata": {},
   "source": [
    "# Урок 7. Фильтры и сглаживание"
   ]
  },
  {
   "cell_type": "markdown",
   "id": "55710fcb-12a6-4e53-9734-cadcc95dd4b5",
   "metadata": {},
   "source": [
    "В этом практическом задании вы научитесь улучшать качество изображений, используя в качестве примера зашумленное на прошлом уроке.\n",
    "\n",
    "Загрузите 'img_noise.jpg', созданное на прошлом уроке, и попробуйте улучшить его качество, используя изученные виды сглаживания. Попробуйте менять размеры фильтров и другие парамтры, чтобы достичь визуально приемлемого результата. Также можете протестировать сглаживание на исходном изображении 'img.jpg'."
   ]
  },
  {
   "cell_type": "code",
   "execution_count": null,
   "id": "3f997f87-38be-4b34-87f4-3209c98bb8f2",
   "metadata": {},
   "outputs": [],
   "source": [
    "import cv2\n",
    "\n",
    "img_noise = cv2.imread('img_noise.jpg')\n",
    "\n",
    "img_blur = # Ваш код\n",
    "\n",
    "# Просмотр результата\n",
    "f, axes = plt.subplots(1, 2, figsize=(10, 5))\n",
    "\n",
    "axes[0].imshow(img_noise[..., ::-1])\n",
    "axes[1].imshow(img_blur[..., ::-1])\n",
    "\n",
    "plt.show()"
   ]
  },
  {
   "cell_type": "code",
   "execution_count": null,
   "id": "1d6c9874-8508-4fe5-a72a-afced2ab150b",
   "metadata": {},
   "outputs": [],
   "source": []
  }
 ],
 "metadata": {
  "kernelspec": {
   "display_name": "Python [conda env:base] *",
   "language": "python",
   "name": "conda-base-py"
  },
  "language_info": {
   "codemirror_mode": {
    "name": "ipython",
    "version": 3
   },
   "file_extension": ".py",
   "mimetype": "text/x-python",
   "name": "python",
   "nbconvert_exporter": "python",
   "pygments_lexer": "ipython3",
   "version": "3.12.4"
  }
 },
 "nbformat": 4,
 "nbformat_minor": 5
}
