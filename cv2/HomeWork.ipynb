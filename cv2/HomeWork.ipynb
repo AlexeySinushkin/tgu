{
 "cells": [
  {
   "cell_type": "markdown",
   "id": "48136096-389e-4ed7-808e-e22cf65579e9",
   "metadata": {},
   "source": [
    "# Домашнее задание: аугментация датасета"
   ]
  },
  {
   "cell_type": "markdown",
   "id": "6034a0b8-66ee-4976-92ae-6ca9e0ad9227",
   "metadata": {},
   "source": [
    "Домашнее задание состоит из трех частей:\n",
    "1. Загрузка и предобработка датасета. Скачать датасет можно по ссылке: https://www.kaggle.com/datasets/vencerlanz09/healthy-and-bleached-corals-image-classification Ожидаемый результат - numpy массив images с изображениями из датасета, приведенными к единому размеру: 100х100x3 с сохранением соотношения сторон.\n",
    "2. Написание классов-оберток для функций преобразований, чтобы осущесвлять случайные преобразования. Ожидаемый результат - корректно работающие обертки для любых 3 цветовых преобразований, любых 5 геометических, 1 наложения шума или сглаживания на выбор.\n",
    "3. Применение аугментации. Ожидаемый результат - 5 аугментированных изображений.\n",
    "\n",
    "В конце сохраните ноутбук вместе с результатами выполнения ячеек."
   ]
  },
  {
   "cell_type": "markdown",
   "id": "8c34cc21-7998-4d9c-a443-bfe7c1d906b0",
   "metadata": {},
   "source": [
    "## Загрузка и предобработка датасета"
   ]
  },
  {
   "cell_type": "code",
   "execution_count": null,
   "id": "b323075d-3e3e-4fe5-996b-51f8dbccb856",
   "metadata": {},
   "outputs": [],
   "source": [
    "images = "
   ]
  },
  {
   "cell_type": "code",
   "execution_count": null,
   "id": "4254607a-3fb3-482f-8ab2-ac5f2f225e91",
   "metadata": {},
   "outputs": [],
   "source": [
    "# Вывод оригинальных изображений\n",
    "\n",
    "from matplotlib import pyplot as plt\n",
    "\n",
    "f, axes = plt.subplots(1, 10, figsize=(15, 5))\n",
    "\n",
    "for i in range(5):\n",
    "    axes[i].imshow(images[i][..., ::-1])\n",
    "\n",
    "plt.show()"
   ]
  },
  {
   "cell_type": "markdown",
   "id": "f898263b-9ba2-4e37-bb50-60f990abdfaf",
   "metadata": {},
   "source": [
    "## Написание оберток для функций преобразований"
   ]
  },
  {
   "cell_type": "code",
   "execution_count": null,
   "id": "986116d6-5239-4e95-9c79-3d03e7eec692",
   "metadata": {},
   "outputs": [],
   "source": [
    "# В эту ячейку можно загрузить функции преобразований, написанные в практических заданиях\n",
    "\n",
    "# пример\n",
    "def zoom_in(img, factor=2):\n",
    "\timg_height, img_width = img.shape[:2]\n",
    "\tM = cv2.getRotationMatrix2D(center=(img_width / 2, img_height / 2),\n",
    "\t                            angle=0,\n",
    "\t                            scale=factor)\n",
    "\tnew_img = cv2.warpAffine(img,\n",
    "\t                         M=M,\n",
    "\t                         dsize=(img_width, img_height))\n",
    "\treturn new_img"
   ]
  },
  {
   "cell_type": "code",
   "execution_count": null,
   "id": "9f5e39aa-cca0-4b13-b1f8-b4293f038693",
   "metadata": {},
   "outputs": [],
   "source": [
    "# Классы-обертки функций\n",
    "\n",
    "# пример\n",
    "class RandomZoomIn:\n",
    "    '''\n",
    "    Случайное приближение изображения.\n",
    "    '''\n",
    "    def __init__(self, factor_range=(1.1,2), prob=0.5):\n",
    "        '''\n",
    "        Arguments:\n",
    "            factor_range (tuple, optional): диапазон выбора фактора приближения\n",
    "            prob (float, optional): вероятность срабатывания преобразования\n",
    "        '''\n",
    "        self.min_factor = factor_range[0]\n",
    "        self.max_factor = factor_range[1]\n",
    "        self.prob = prob\n",
    "\n",
    "    def __call__(self, img):\n",
    "        p = np.random.uniform(0,1) # выбор вероятности срабатывания\n",
    "        if p >= self.prob:\n",
    "            factor = np.random.uniform(self.min_factor, self.max_factor) # выбор фактора\n",
    "            return zoom_in(img, factor)\n",
    "        else:\n",
    "            return img"
   ]
  },
  {
   "cell_type": "markdown",
   "id": "b84c1965-4588-4c0d-90e1-5fc7cd888724",
   "metadata": {},
   "source": [
    "## Применение аугментации"
   ]
  },
  {
   "cell_type": "code",
   "execution_count": null,
   "id": "7c41b326-fe64-4f04-902e-82b8d58674bc",
   "metadata": {},
   "outputs": [],
   "source": [
    "augmentation_steps = [# Ваш список оберток, будьте внимательны к их порядку! Пример: RandomZoomIn(), ...]\n",
    "\n",
    "# Применение аугментации\n",
    "for i in range(images.shape[0]):\n",
    "    for transform in augmentation_steps:\n",
    "        images[i] = transform(images[i])"
   ]
  },
  {
   "cell_type": "code",
   "execution_count": null,
   "id": "f8928d3b-1f17-41e2-91df-3a775db02e73",
   "metadata": {},
   "outputs": [],
   "source": [
    "# Вывод результата - аугментированных изображений\n",
    "\n",
    "from matplotlib import pyplot as plt\n",
    "\n",
    "f, axes = plt.subplots(1, 10, figsize=(15, 5))\n",
    "\n",
    "for i in range(5):\n",
    "    axes[i].imshow(images[i][..., ::-1])\n",
    "\n",
    "plt.show()"
   ]
  }
 ],
 "metadata": {
  "kernelspec": {
   "display_name": "Python 3 (ipykernel)",
   "language": "python",
   "name": "python3"
  },
  "language_info": {
   "codemirror_mode": {
    "name": "ipython",
    "version": 3
   },
   "file_extension": ".py",
   "mimetype": "text/x-python",
   "name": "python",
   "nbconvert_exporter": "python",
   "pygments_lexer": "ipython3",
   "version": "3.10.12"
  }
 },
 "nbformat": 4,
 "nbformat_minor": 5
}
