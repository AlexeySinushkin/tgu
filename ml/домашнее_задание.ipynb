{
 "cells": [
  {
   "cell_type": "markdown",
   "metadata": {
    "id": "kVIU0QJFBU-A"
   },
   "source": [
    "Для начала импортируем необходимые библиотеки:"
   ]
  },
  {
   "cell_type": "code",
   "execution_count": null,
   "metadata": {
    "id": "Biq3jX8TBPJd"
   },
   "outputs": [],
   "source": [
    "import numpy as np #для матричных вычислений\n",
    "import pandas as pd #для анализа и предобработки данных\n",
    "import matplotlib.pyplot as plt #для визуализации\n",
    "import seaborn as sns #для визуализации\n",
    "\n",
    "from sklearn import metrics #метрики\n",
    "from sklearn import model_selection #методы разделения и валидации\n",
    "from sklearn import ensemble #ансамбли\n",
    "\n",
    "plt.style.use('seaborn-v0_8') #стиль отрисовки seaborn\n",
    "%matplotlib inline"
   ]
  },
  {
   "cell_type": "markdown",
   "metadata": {
    "id": "PJil2ChtBaB-"
   },
   "source": [
    "1. Прочитайте таблицу с данными ('data/online_shoppers_intention.csv') и выведите ее на экран, чтобы убедиться, что чтение прошло успешно."
   ]
  },
  {
   "cell_type": "code",
   "execution_count": null,
   "metadata": {
    "id": "R-LzTVApBZ0N",
    "scrolled": true
   },
   "outputs": [],
   "source": [
    "df = pd.read_csv('data/online_shoppers_intention.csv')\n",
    "print(df.head())"
   ]
  },
  {
   "cell_type": "markdown",
   "metadata": {
    "id": "6C8aQuZkBkx4"
   },
   "source": [
    "2. Выведите размер таблицы"
   ]
  },
  {
   "cell_type": "code",
   "execution_count": null,
   "metadata": {
    "id": "tOih4yDSBowL"
   },
   "outputs": [],
   "source": [
    "print(f\"Строк {df.shape[0]}. Столбцов {df.shape[1]}\")\n",
    "assert df.shape[0] > 12000 and df.shape[1] == 18"
   ]
  },
  {
   "cell_type": "markdown",
   "metadata": {
    "id": "Q9rZOkA9Bqcm"
   },
   "source": [
    "3. В нашей таблице содержится информация о более чем 12 тысячах сессий на сайте интернет-магазина. Каждая сессия описывается 18 признаками.\n",
    "Удостоверьтесь в отсутствии пропусков:"
   ]
  },
  {
   "cell_type": "code",
   "execution_count": null,
   "metadata": {
    "id": "NDl705itBwmz"
   },
   "outputs": [],
   "source": [
    "nulls = df.isnull().sum()\n",
    "print(nulls)\n",
    "for col, sum in nulls:\n",
    "    assert sum!=0, f\"Имеются пропуски в колонке {col}\""
   ]
  },
  {
   "cell_type": "markdown",
   "metadata": {
    "id": "LtKKChnRB8x1"
   },
   "source": [
    "4. Закодируйте категориальные признаки с помощью простого горячего кодирования, используя уже знакомую нам функцию get_dummies():"
   ]
  },
  {
   "cell_type": "code",
   "execution_count": null,
   "metadata": {
    "id": "jvoWy_9GB2xe"
   },
   "outputs": [],
   "source": [
    "types = df.dtypes\n",
    "#Категориальные признаки\n",
    "cat_features = list(types[(types == 'object')].index)\n",
    "print(cat_features) # ['Month', 'VisitorType']\n",
    "n = len(cat_features) #число категориальных признаков\n",
    "fig, axes = plt.subplots(1, 2, figsize=(40, 20))\n",
    "#Строим столбчатую диаграмму для категории Месяц\n",
    "sns.barplot(data=df, x=cat_features[0], y='Revenue', ax=axes[0])\n",
    "#Строим столбчатую диаграмму для категории Тип посетителя\n",
    "sns.barplot(data=df, x=cat_features[1], y='Revenue', ax=axes[1])\n",
    "\n",
    "plt.tight_layout()\n",
    "plt.show()\n",
    "#по столбчатым диаграммам видим что максимум приходится на конец года - Октябрь, Ноябрь, Декабь\n",
    "# в Январе и феврале - минимум продаж - этот признак отбрасывать нельзя\n",
    "\n",
    "#по типу клиента связь выражена не так сильно как по месяцам, но все-же есть. (тоже не отбрасываем)"
   ]
  },
  {
   "cell_type": "markdown",
   "metadata": {
    "id": "fhvLgkakCA1t"
   },
   "source": [
    "5. Теперь, когда необходимые преобразования выполнены, мы можем говорить о построении модели.\n",
    "\n",
    "Итак, нам необходимо предсказать целевую переменную Revenue — признак покупки. Целевой признак является бинарным категориальным, то есть мы решаем задачу бинарной классификации.\n",
    "В первую очередь визуализируйте соотношение классов в данных:"
   ]
  },
  {
   "cell_type": "code",
   "execution_count": null,
   "metadata": {
    "id": "woScUkcUCGM-"
   },
   "outputs": [],
   "source": [
    "sns.countplot(data=df, x='Revenue')\n",
    "plt.show()\n"
   ]
  },
  {
   "cell_type": "markdown",
   "metadata": {
    "id": "CKrXu50UCN4n"
   },
   "source": [
    "6. Сбалансирована ли данная выборка? Обоснуйте свою позицию"
   ]
  },
  {
   "cell_type": "code",
   "execution_count": null,
   "metadata": {
    "id": "aNfPzVzRCUWL"
   },
   "outputs": [],
   "source": [
    "Выборка не сбалансирована. Купленных машин в несколько раз меньше по завершении сессии."
   ]
  },
  {
   "cell_type": "markdown",
   "metadata": {
    "id": "UTnuDsX2CZup"
   },
   "source": [
    "7. Из 12330 сессий покупкой товара завершаются лишь 15.47 %. Мы знаем, что такое соотношение классов заставляет нас смотреть на метрики для каждого из классов отдельно.\n",
    "\n",
    "Условимся, что лучшей будет считаться та модель, у которой значение метрики F1 для пользователей, совершивших покупку, будет наибольшим.\n",
    "\n",
    "Разделите набор данных на матрицу наблюдений X и вектор ответов y:"
   ]
  },
  {
   "cell_type": "code",
   "execution_count": null,
   "metadata": {
    "id": "KcCp1PoxCche"
   },
   "outputs": [],
   "source": []
  },
  {
   "cell_type": "markdown",
   "metadata": {
    "id": "FrWLIMoFCgLl"
   },
   "source": [
    "Давайте заранее определимся, как мы будем производить контроль качества наших моделей:\n",
    "\n",
    "Разделим выборку на тренировочную и тестовую.\n",
    "Будем проводить кросс-валидацию на тренировочной выборке (то есть будем делить её на тренировочные и валидационные фолды и считать среднее значение метрики по фолдам).\n",
    "Итого мы будем использовать два показателя:\n",
    "\n",
    "значение метрики на тренировочных и валидационных фолдах кросс-валидации (по ним мы будем отслеживать переобучение модели и подбирать внешние параметры);\n",
    "значение метрики на отложенной тестовой выборке (оно будет нашим контрольным показателем).\n",
    "Другими словами, мы будем сочетать hold-оut- и k-fold-подходы к валидации."
   ]
  },
  {
   "cell_type": "markdown",
   "metadata": {
    "id": "PpQvj38YCjXL"
   },
   "source": [
    "8. Для начала позаботимся о создании отложенной тестовой выборки.\n",
    "\n",
    "Разделите выборку на тренировочную и тестовую в соотношении 80/20. Используйте разбиение, стратифицированное по целевому признаку. В качестве значения параметра random_state возьмите число 42.\n",
    "\n",
    "Чему равно количество сессий на сайте в тренировочной выборке?"
   ]
  },
  {
   "cell_type": "code",
   "execution_count": null,
   "metadata": {
    "id": "3_jcbvrHCk8L"
   },
   "outputs": [],
   "source": []
  },
  {
   "cell_type": "markdown",
   "metadata": {
    "id": "M6gVxMTqCoPd"
   },
   "source": [
    "9. Расчитайте количество сессий в тестовой выборке:"
   ]
  },
  {
   "cell_type": "code",
   "execution_count": null,
   "metadata": {
    "id": "i69p0t11CqX3"
   },
   "outputs": [],
   "source": []
  },
  {
   "cell_type": "markdown",
   "metadata": {
    "id": "6dv38ggKCvgj"
   },
   "source": [
    "10.Коллеги посоветовали нам использовать случайный лес (Random Forest) для решения данной задачи. Давайте последуем их совету.\n",
    "\n",
    "Создайте модель случайного леса. В качестве значения параметра random_state возьмите число 42. Остальные параметры оставьте по умолчанию.\n",
    "\n",
    "Оцените качество такой модели с помощью кросс-валидации по пяти фолдам. Так как классы несбалансированы, используйте кросс-валидатор StratifiedKFold (перемешивать выборку не нужно).\n",
    "\n",
    "Для проведения кросс-валидации используйте функцию cross_validate(). Набор данных (параметры X, y) — тренировочная выборка (X_train, y_train). Метрика — F1-score.\n",
    "\n",
    "Расчитайте, чему равно среднее значение метрики  на тренировочных и валидационных фолдах?"
   ]
  },
  {
   "cell_type": "code",
   "execution_count": null,
   "metadata": {
    "id": "vF1gs3PTDAC_"
   },
   "outputs": [],
   "source": []
  },
  {
   "cell_type": "markdown",
   "metadata": {
    "id": "68JEDAaqDIGh"
   },
   "source": [
    "11. Является ли, по-вашему, построенная в предыдущем задании модель случайного леса переобученной? Обоснуйте вашу позицию"
   ]
  },
  {
   "cell_type": "code",
   "execution_count": null,
   "metadata": {
    "id": "QOvDZw86DKRg"
   },
   "outputs": [],
   "source": []
  },
  {
   "cell_type": "markdown",
   "metadata": {
    "id": "LtaA5tJZDKtt"
   },
   "source": [
    "12. Попробуем использовать несколько вариаций случайного леса и с помощью кривых обучения постараемся выбрать наилучшую из них.\n",
    "\n",
    "Создайте список из трёх следующих моделей:\n",
    "\n",
    "Случайный лес из деревьев максимальной глубины 5.\n",
    "Случайный лес из деревьев максимальной глубины 7.\n",
    "Случайный лес из деревьев максимальной глубины 12.\n",
    "Для всех трёх моделей количество деревьев в лесу (n_estimators) возьмите равным 200, количество объектов в листе (min_samples_leaf) — 5. Параметр random_state = 42. Остальные параметры оставьте по умолчанию.\n",
    "\n",
    "Постройте для каждой из моделей кривую обучения.\n",
    "Совет: воспользуйтесь функцией plot_learning_curve()\n",
    "\n",
    "Для построения кривых используйте обучающий набор данных (X_train, y_train), стратифицированный кросс-валидатор на пяти фолдах (StratifiedKFold) и метрику F1-score. Остальные параметры функции learning_curve() оставьте по умолчанию."
   ]
  },
  {
   "cell_type": "code",
   "execution_count": null,
   "metadata": {
    "id": "ZE5ro_DiDSMT"
   },
   "outputs": [],
   "source": []
  },
  {
   "cell_type": "markdown",
   "metadata": {
    "id": "2NzTDouyDSjC"
   },
   "source": [
    "13. Из построенных кривых обучения сделайте вывод: какая глубина деревьев в лесу является оптимальной? Ответ обоснуйте"
   ]
  },
  {
   "cell_type": "code",
   "execution_count": null,
   "metadata": {
    "id": "BzsLRZrKDeo6"
   },
   "outputs": [],
   "source": []
  },
  {
   "cell_type": "markdown",
   "metadata": {
    "id": "O6BtRB--Dkrk"
   },
   "source": [
    "14. Обучите случайный лес с выбранной в предыдущем задании оптимальной глубиной на тренировочной выборке. Сделайте предсказание меток классов и выведите отчёт о метриках классификации.\n",
    "\n",
    " Рассчитайте значение метрики accuracy"
   ]
  },
  {
   "cell_type": "code",
   "execution_count": null,
   "metadata": {
    "id": "CbrhZIjVDnqW"
   },
   "outputs": [],
   "source": []
  },
  {
   "cell_type": "markdown",
   "metadata": {
    "id": "wX4YvysQDr9E"
   },
   "source": [
    "15. Рассчитайте значение метрики F1 для посетителей, завершивших сессию без покупки товара?"
   ]
  },
  {
   "cell_type": "code",
   "execution_count": null,
   "metadata": {
    "id": "569Z1bCVDvkG"
   },
   "outputs": [],
   "source": []
  },
  {
   "cell_type": "markdown",
   "metadata": {
    "id": "R0PMFYvEDz05"
   },
   "source": [
    "16. Рассчитайте значение метрики F1 для посетителей, купивших товар во время сессии?"
   ]
  },
  {
   "cell_type": "code",
   "execution_count": null,
   "metadata": {
    "id": "PTDFBiTJD260"
   },
   "outputs": [],
   "source": []
  },
  {
   "cell_type": "markdown",
   "metadata": {
    "id": "sDn8OyohD_Hd"
   },
   "source": [
    "17. Напишите вывод по полученным значениям"
   ]
  },
  {
   "cell_type": "code",
   "execution_count": null,
   "metadata": {
    "id": "wmTUx8vrEFtQ"
   },
   "outputs": [],
   "source": []
  },
  {
   "cell_type": "markdown",
   "metadata": {
    "id": "IxWQFvfkEGr2"
   },
   "source": [
    "18. Попробуем повысить качество распознавания посетителей, совершивших покупку. Используем метод подбора порога вероятности с помощью PR-кривой.\n",
    "\n",
    "Порог вероятности будем подбирать с помощью кросс-валидации.\n",
    "\n",
    "Сделайте предсказание вероятностей принадлежности к пользователям, которые совершат покупку, на кросс-валидации на пяти фолдах. Используйте метод cross_val_predict().\n",
    "\n",
    "Для кросс-валидации используйте случайный лес с подобранной в прошлых заданиях оптимальной максимальной глубиной деревьев, набор данных (параметры X, y) — тренировочная выборка (X_train, y_train).\n",
    "\n",
    "Постройте PR-кривую и отметьте на ней точку, в которой наблюдается максимум метрики  для посетителей, которые совершат покупку. Определите порог вероятности, соответствующий этой точке."
   ]
  },
  {
   "cell_type": "code",
   "execution_count": null,
   "metadata": {
    "id": "vGUr7TeVENoc"
   },
   "outputs": [],
   "source": []
  },
  {
   "cell_type": "markdown",
   "metadata": {
    "id": "9l8B5mh1EOW8"
   },
   "source": [
    "19. Сделайте предсказание классов объекта с определённым в предыдущем задании порогом вероятности. Выведите отчёт о метриках классификации.\n",
    "Рассчитайте значение метрики accuracy"
   ]
  },
  {
   "cell_type": "code",
   "execution_count": null,
   "metadata": {
    "id": "wKgFOzPxETRo"
   },
   "outputs": [],
   "source": []
  },
  {
   "cell_type": "markdown",
   "metadata": {
    "id": "VvCxDjiJEdsR"
   },
   "source": [
    "20. Рассчитайте значение метрики F1 для посетителей, завершивших сессию без покупки товара и значение метрики F1 для посетителей, купивших товар во время сессии? После расчета напишите свои выводы на основе метрик"
   ]
  },
  {
   "cell_type": "code",
   "execution_count": null,
   "metadata": {
    "id": "WQx6IxerEoa1"
   },
   "outputs": [],
   "source": []
  }
 ],
 "metadata": {
  "colab": {
   "provenance": []
  },
  "kernelspec": {
   "display_name": "Python [conda env:base] *",
   "language": "python",
   "name": "conda-base-py"
  },
  "language_info": {
   "codemirror_mode": {
    "name": "ipython",
    "version": 3
   },
   "file_extension": ".py",
   "mimetype": "text/x-python",
   "name": "python",
   "nbconvert_exporter": "python",
   "pygments_lexer": "ipython3",
   "version": "3.12.4"
  }
 },
 "nbformat": 4,
 "nbformat_minor": 4
}
